{
  "nbformat": 4,
  "nbformat_minor": 0,
  "metadata": {
    "colab": {
      "provenance": []
    },
    "kernelspec": {
      "name": "python3",
      "display_name": "Python 3"
    },
    "language_info": {
      "name": "python"
    }
  },
  "cells": [
    {
      "cell_type": "code",
      "execution_count": 1,
      "metadata": {
        "id": "YogB4mdgYI67",
        "colab": {
          "base_uri": "https://localhost:8080/"
        },
        "outputId": "812aa6b2-451a-4577-f36d-b509a3ae1ba0"
      },
      "outputs": [
        {
          "output_type": "stream",
          "name": "stdout",
          "text": [
            "Mounted at /content/drive\n"
          ]
        }
      ],
      "source": [
        "import os\n",
        "from google.colab import drive\n",
        "\n",
        "if not os.path.ismount('/content/drive'):\n",
        "    drive.mount('/content/drive')"
      ]
    },
    {
      "cell_type": "code",
      "source": [
        "!cp -r /content/drive/MyDrive/.ssh/ ~/\n",
        "!ls ~/.ssh/ -a\n",
        "!ssh -T git@github.com\n",
        "!git clone git@github.com:Yichuan0712/CoTable.git"
      ],
      "metadata": {
        "colab": {
          "base_uri": "https://localhost:8080/"
        },
        "id": "Mv-vpM6pcPAO",
        "outputId": "27859cfd-f0e9-4e96-ce01-7f2fae1cb688"
      },
      "execution_count": 2,
      "outputs": [
        {
          "output_type": "stream",
          "name": "stdout",
          "text": [
            ".  ..  github_id_rsa  hellbender_id_rsa  id_rsa  id_rsa.pub  known_hosts\n",
            "Hi Yichuan0712! You've successfully authenticated, but GitHub does not provide shell access.\n",
            "Cloning into 'CoTable'...\n",
            "remote: Enumerating objects: 173, done.\u001b[K\n",
            "remote: Counting objects: 100% (173/173), done.\u001b[K\n",
            "remote: Compressing objects: 100% (130/130), done.\u001b[K\n",
            "remote: Total 173 (delta 58), reused 143 (delta 31), pack-reused 0 (from 0)\u001b[K\n",
            "Receiving objects: 100% (173/173), 1.16 MiB | 15.01 MiB/s, done.\n",
            "Resolving deltas: 100% (58/58), done.\n"
          ]
        }
      ]
    },
    {
      "cell_type": "code",
      "source": [
        "!cp /content/drive/MyDrive/OSU/tabula_data.env /content/.env\n",
        "# !cp /content/drive/MyDrive/OSU/yichuan_gemini.env /content/.env"
      ],
      "metadata": {
        "id": "ikbfWaBPXZ8L"
      },
      "execution_count": 3,
      "outputs": []
    },
    {
      "cell_type": "code",
      "source": [
        "!pip install python-dotenv -q\n",
        "!pip install fake_useragent -q\n",
        "!pip install shortuuid -q\n",
        "!pip install ratelimit -q\n",
        "!pip install langchain-openai -q"
      ],
      "metadata": {
        "colab": {
          "base_uri": "https://localhost:8080/"
        },
        "id": "OBagnJatXcOx",
        "outputId": "e3e00b08-949d-479e-8ebc-7db5385abc11"
      },
      "execution_count": 4,
      "outputs": [
        {
          "output_type": "stream",
          "name": "stdout",
          "text": [
            "\u001b[?25l   \u001b[90m━━━━━━━━━━━━━━━━━━━━━━━━━━━━━━━━━━━━━━━━\u001b[0m \u001b[32m0.0/201.1 kB\u001b[0m \u001b[31m?\u001b[0m eta \u001b[36m-:--:--\u001b[0m\r\u001b[2K   \u001b[91m━━━━━━━━━━━━━━━━━━━━━━━━━━━━━━━━━━\u001b[0m\u001b[91m╸\u001b[0m\u001b[90m━━━━━\u001b[0m \u001b[32m174.1/201.1 kB\u001b[0m \u001b[31m5.4 MB/s\u001b[0m eta \u001b[36m0:00:01\u001b[0m\r\u001b[2K   \u001b[90m━━━━━━━━━━━━━━━━━━━━━━━━━━━━━━━━━━━━━━━━\u001b[0m \u001b[32m201.1/201.1 kB\u001b[0m \u001b[31m4.1 MB/s\u001b[0m eta \u001b[36m0:00:00\u001b[0m\n",
            "\u001b[?25h  Preparing metadata (setup.py) ... \u001b[?25l\u001b[?25hdone\n",
            "  Building wheel for ratelimit (setup.py) ... \u001b[?25l\u001b[?25hdone\n",
            "\u001b[2K   \u001b[90m━━━━━━━━━━━━━━━━━━━━━━━━━━━━━━━━━━━━━━━━\u001b[0m \u001b[32m54.9/54.9 kB\u001b[0m \u001b[31m1.8 MB/s\u001b[0m eta \u001b[36m0:00:00\u001b[0m\n",
            "\u001b[2K   \u001b[90m━━━━━━━━━━━━━━━━━━━━━━━━━━━━━━━━━━━━━━━━\u001b[0m \u001b[32m1.2/1.2 MB\u001b[0m \u001b[31m17.6 MB/s\u001b[0m eta \u001b[36m0:00:00\u001b[0m\n",
            "\u001b[?25h"
          ]
        }
      ]
    },
    {
      "cell_type": "code",
      "source": [
        "import os\n",
        "os.chdir('/content/CoTable')"
      ],
      "metadata": {
        "id": "msiNzGPMA4Ue"
      },
      "execution_count": 5,
      "outputs": []
    },
    {
      "cell_type": "code",
      "source": [
        "!git pull origin main"
      ],
      "metadata": {
        "colab": {
          "base_uri": "https://localhost:8080/"
        },
        "id": "XU7NDD5Nd4la",
        "outputId": "db9cc5f2-a5ef-4eb4-e8c9-1bfb42f91116"
      },
      "execution_count": 6,
      "outputs": [
        {
          "output_type": "stream",
          "name": "stdout",
          "text": [
            "From github.com:Yichuan0712/CoTable\n",
            " * branch            main       -> FETCH_HEAD\n",
            "Already up to date.\n"
          ]
        }
      ]
    },
    {
      "cell_type": "code",
      "source": [
        "import os\n",
        "from table_utils import *\n",
        "\n",
        "root_path = \"/content/CoTable/data/html/pk_summary_250218/\"\n",
        "\n",
        "for root, _, files in os.walk(root_path):\n",
        "    for filename in files:\n",
        "        if filename.endswith(\".html\"):\n",
        "            filename = os.path.join(root, filename)\n",
        "            print(filename)\n",
        "            print(deduplicate_headers(fill_empty_headers(remove_empty_col_row(stack_md_table_headers(html_table_to_markdown(get_html_content_from_file(filename)))))))\n",
        "            print()\n",
        "            print()\n"
      ],
      "metadata": {
        "colab": {
          "base_uri": "https://localhost:8080/"
        },
        "id": "RHHXcY7b3T1g",
        "outputId": "ebc9583a-ce8c-4666-c631-f9854923fa3f"
      },
      "execution_count": 7,
      "outputs": [
        {
          "output_type": "stream",
          "name": "stdout",
          "text": [
            "/content/CoTable/data/html/pk_summary_250218/35489632/2.html\n",
            "| Unnamed | Patients without ARC→GM (95% CI) | Patients with ARC→GM (95% CI) | P-value |\n",
            "| --- | --- | --- | --- |\n",
            "| EI | N= 28 | N= 26 |  |\n",
            "| Cmid(mg/L) | 19.9 (13.5−29.5) | 14.8 (11.4−19.1) | 0.20 |\n",
            "| Ctrough(mg/L) | 3.5 (2.0−6.1) | 1.6 (1.0−2.6) | 0.04 |\n",
            "| IB | N= 11 | N= 7 |  |\n",
            "| Cmid(mg/L) | 4.9 (2.6−9.2) | 1.9 (0.4−9.6) | 0.14 |\n",
            "| Ctrough(mg/L) | 0.8 (0.4−1.6) | 0.9 (0.2−4.2) | 0.85 |\n",
            "\n",
            "\n",
            "/content/CoTable/data/html/pk_summary_250218/29943508/2.html\n",
            "| Variable | Adrenaline group (n = 19) | Control group (n = 20) | Mean difference | P‐value |\n",
            "| --- | --- | --- | --- | --- |\n",
            "| Mean serum fentanyl concentration, umbilical vein (nmol/L) | 0.162 (0.090) (n = 16) | 0.151 (0.070) (n = 20) | 0.012 [−0.042; 0.065] | .67 |\n",
            "| Median maternal serum fentanyl concentration at birth (nmol/L) | 0.268 [0.193; 0.493](n = 16) | 0.291 [0.212; 0.502](n = 19) | −0.061 [−0.205; 0.082] | .66 |\n",
            "| Mean AUC 0‐120 min for fentanyl in maternal serum (nmol h/L) | 0.428 (0.162) (n = 18) | 0.590 (0.197) (n = 15) | −0.162 [−0.289; −0.034] | .015 |\n",
            "\n",
            "\n",
            "/content/CoTable/data/html/pk_summary_250218/17635501/3.html\n",
            "| Parameter | n | I.v. LZP | n_1 | I.m. LZP | 95% CI for the difference between the means or medians |\n",
            "| --- | --- | --- | --- | --- | --- |\n",
            "| Cmax(ng ml) | 11 | 65.1 (47.5, 86) | 10 | 45.3 (29.6, 66.3) | −43.5, 5.0 |\n",
            "| tmax(h)* | 11 | 0. 5 (0.167–0.67) | 10 | 0.42 (0.167–1.0) | −0.33, 0.17 |\n",
            "| t1/2(elimination), h | 9 | 23.7 (9.8, 37.6) | 5 | 36.9 (−1.5, 75.5) | −41.3, 14.9 |\n",
            "| AUC0–∞(ng mlh) | 9 | 2062.5 (600.6, 3771.4) | 5 | 1843.6 (296.7, 3390.5) | −1267.8, 1883.0 |\n",
            "| ka(h)* |  | – | 6 | 9.8 (0.033, 22.8) | – |\n",
            "| t1/2(absorption), h* |  | – | 6 | 0.035 (0.01, 0.071) | – |\n",
            "| CL (l h) | 9 | 0.64 (0.36, 0.92) |  | – | – |\n",
            "| VC(l kg) | 9 | 1.67 (1.25, 2.10) |  | – | – |\n",
            "| Vss(l kg) | 9 | 2.59 (1.56, 3.62) |  | – | – |\n",
            "| Bioavailability (F) | 9 | Assume 100% | 6 | 89.4% | – |\n",
            "\n",
            "\n",
            "/content/CoTable/data/html/pk_summary_250218/22050870/2.html\n",
            "| Unnamed | Cmax(ng/mL) | AUC0−∞ | CL(mL/min/kg) | CL(mL/min/m) | Vdz(L/kg) | T1/2(hr) |\n",
            "| --- | --- | --- | --- | --- | --- | --- |\n",
            "| N | 15 | 15 | 15 | 15 | 15 | 15 |\n",
            "| Range | 29.3–209.6 | 253.3–3202.5 | 3.33–131.50 | 5.5–67.5 | 0.33–4.05 | 9.5–47.0 |\n",
            "| Mean ± s.d. | 56.1 ± 44.9 | 822.5 ± 706.1 | 49.33 ± 30.83 | 31.95 ± 13.99 | 1.92 ± 0.84 | 20.5 ± 10.2 |\n",
            "| Median | 42.2 | 601.5 | 41.50 | 32.34 | 1.94 | 18.1 |\n",
            "\n",
            "\n",
            "/content/CoTable/data/html/pk_summary_250218/22050870/3.html\n",
            "| Unnamed | Free Fraction | CL(mL/min/kg) | CLmL/min/m) | Vdss(L/kg) | Beta(hr) | T½Beta(hr) |\n",
            "| --- | --- | --- | --- | --- | --- | --- |\n",
            "| Overall |  |  |  |  |  |  |\n",
            "| N | 61 | 63 | 63 | 63 | 63 | 63 |\n",
            "| Range | 0.07–0.48 | 0.3–7.75 | 6.50–147.17 | 0.49–3.40 | 0.017–0.118 | 5.9–42.0 |\n",
            "| Mean ± s.d. | 0.10 ± 0.05 | 1.2 ± 0.93 | 33.33 ± 19.33 | 1.48 ± 0.54 | 0.048 ± 0.020 | 16.8 ± 7.1 |\n",
            "| Median | 0.09 | 1.08 | 29.00 | 1.37 | 0.046 | 15.1 |\n",
            "| 3 Month to < 3 Years |  |  |  |  |  |  |\n",
            "| N | 17 | 18 | 18 | 18 | 18 | 18 |\n",
            "| Range | 0.07–0.48 | 0.63–7.75 | 12.83–147.17 | 0.67–3.40 | 0.024–0.118 | 5.9–28.4 |\n",
            "| Mean ± s.d. | 0.11 ± 0.10 | 1.57 ± 1.62 | 32.83 ± 30.17 | 1.62 ± 0.59 | 0.053 ± 0.027 | 15.8 ± 6.5 |\n",
            "| 3 to < 13 Years |  |  |  |  |  |  |\n",
            "| N | 28 | 29 | 29 | 29 | 29 | 29 |\n",
            "| Range | 0.07–0.17 | 0.30–1.82 | 6.50–69.17 | 0.49–3.00 | 0.017–0.092 | 7.5–40.6 |\n",
            "| Mean ± s.d. | 0.10 ± 0.02 | 1.12 ± 0.40 | 31.83 ± 13.83 | 1.50 ± 0.61 | 0.048 ± 0.017 | 16.9 ± 7.4 |\n",
            "| 13 to < 18 Years |  |  |  |  |  |  |\n",
            "| N | 16 | 16 | 16 | 16 | 16 | 16 |\n",
            "| Range | 0.07–0.15 | 0.43–1.58 | 16.33–60.00 | 1.00–1.54 | 0.017–0.084 | 8.2–42.0 |\n",
            "| Mean ± s.d. | 0.09 ± 0.02 | 0.95 ± 0.32 | 36.67 ± 12.00 | 1.27 ± 0.17 | 0.044 ± 0.016 | 17.8 ± 7.7 |\n",
            "\n",
            "\n",
            "/content/CoTable/data/html/pk_summary_250218/34114632/2.html\n",
            "| .→ PK parameters. | Dose range 1 (5–15 mg/kg/12 h).→Historical data. | Dose range 1 (5–15 mg/kg/12 h).→Current data. | Dose range 1 (5–15 mg/kg/12 h).→pvalue. | Dose range 2 (15–25 mg/kg/12 h).→Historical data. | Dose range 2 (15–25 mg/kg/12 h).→Current data. | Dose range 2 (15–25 mg/kg/12 h).→pvalue. | Dose range 3 (25–35 mg/kg/12 h).→Historical data. | Dose range 3 (25–35 mg/kg/12 h).→Current data. | Dose range 3 (25–35 mg/kg/12 h). →pvalue. |\n",
            "| --- | --- | --- | --- | --- | --- | --- | --- | --- | --- |\n",
            "| Cmax(µg/mL) | 24.8 ± 8.3 | 19.19 ± 4.12 | 0.07 | 57.1 ± 14.9 | 35.12 ± 10.54 | 0.001 | 73.2 ± 19.2 | 36.11 (27.58–44.64) | – |\n",
            "| AUC0–12(h*µg /mL) | 145 ± 44 | 167.0 ± 45.6 | 0.26 | 322 ± 71 | 316.5 ± 108.4 | 0.88 | 433 ± 94 | 290.9 (176.14–405.59) | – |\n",
            "| Ctrough(µg/mL) | 8.4 ± 3.8 | 9.99 ± 3.86 | 0.34 | 15.6 ± 5.3 | 19.25 ± 8.48 | 0.22 | 20.6 ± 5.8 | 13.03 (2.98–23.07) | – |\n",
            "| Tmax(h) | 0.5 (0.25–3.0) | 1.5 (1.5–2.5) | – | 0.5 (0.5–3.0) | 2.5 (2.0–3.3) | – | 0.5 (0.5–3) | 1.5 (1.5) | – |\n",
            "\n",
            "\n",
            "/content/CoTable/data/html/pk_summary_250218/34114632/3.html\n",
            "| Pharmacokinetic parameter. | Naso- or orogastric tube administration,n= 14/19. | Oral administration,n= 5/19. | Pvalue. |\n",
            "| --- | --- | --- | --- |\n",
            "| AUC0–12(h*μg/mL) | 220 (157.5–355.4) | 213.8 (154.0–348.8) | 0.90 |\n",
            "| Cmax(μg/mL) | 23.8 (18.8–41.3) | 26.4 (19.3–34.2) | 0.84 |\n",
            "| Tmax(h) | 1.5 (1.5–2.5) | 2.5 (1.5–2.9) | 0.46 |\n",
            "\n",
            "\n",
            "/content/CoTable/data/html/pk_summary_250218/35465728/2.html\n",
            "| Factor | Data for:→Before group | Data for:→After group | Pvalue |\n",
            "| --- | --- | --- | --- |\n",
            "| Initial Cavg | n= 60 | n= 59 |  |\n",
            "| Repartition |  |  |  |\n",
            "| Subtherapeutic | 41 (68.3) | 6 (10.2) | <0.001 |\n",
            "| Therapeutic | 17 (28.3) | 44 (74.6) | <0.001 |\n",
            "| Supra-therapeutic | 2 (3.3) | 9 (15.3) | 0.001 |\n",
            "| Concentration (mg/L) | 12.9 [11.3–17.0] | 20.3 [17.0–22.2] | <0.001 |\n",
            "| All Cavg | n= 116 | n= 103 |  |\n",
            "| Repartition |  |  |  |\n",
            "| Subtherapeutic | 78 (67.2) | 13 (12.6) | <0.001 |\n",
            "| Therapeutic | 36 (31.0) | 77 (74.8) | <0.001 |\n",
            "| Supra-therapeutic | 2 (1.7) | 13 (12.6) | 0.025 |\n",
            "| Concentration (mg/L) | 13.1 [11.3–16.2] | 19.8 [16.8–22.1] | < 0.001 |\n",
            "| Initial Cavg/MIC ratio | n=22 | n=17 |  |\n",
            "| Repartition |  |  |  |\n",
            "| <8 | 10 (45.5) | 2 (11.8) | 0.02 |\n",
            "| ≥8 | 12 (54.5) | 15 (88.2) |  |\n",
            "| Cavg/MIC ratio | 8.8 [6.2–11.5] | 12.8 [10.9–20.9] | 0.004 |\n",
            "| Initial AUC/MIC ratio | n=22 | n=17 |  |\n",
            "| Repartition |  |  |  |\n",
            "| <400 | 20/22 (90.9) | 10/17 (58.8) | 0.02 |\n",
            "| ≥400 | 2/22 (9.1) | 7/17 (41.2) |  |\n",
            "| AUC/MIC ratio | 211 [149–275] | 307 [262–502] | 0.006 |\n",
            "\n",
            "\n",
            "/content/CoTable/data/html/pk_summary_250218/16143486/2.html\n",
            "| Empty Cell | Lorazepam isomeric mixture | Lorazepam-glucuronide isomeric mixture |\n",
            "| --- | --- | --- |\n",
            "| Cmax(ng/ml) | 12.96 (9.42–16.49) | 35.55 (8.27–62.83) |\n",
            "| tmax(h) | 3.10 (2.57–3.63) | 4.33 (2.90–5.77) |\n",
            "| t1/2a(h) | 3.16 (2.62–3.68) | 1.37 (1.15–1.58) |\n",
            "| Ka(h) | 0.23 (0.19–0.28) | 0.52 (0.44–0.59) |\n",
            "| t1/2β(h) | 10.35 (9.39–11.32) | 18.17 (14.10–22.23) |\n",
            "| β(h) | 0.068 (0.061–0.075) | 0.039 (0.032–0.047) |\n",
            "| AUC((ng h)/ml) | 175.25 (145.74–204.75) | 481.19 (252.87–709.51) |\n",
            "| ClT/F (ml/(min kg)) | 2.61 (2.34–2.88) | – |\n",
            "| Vd/F (l) | 178.78 (146.46–211.10) | – |\n",
            "\n",
            "\n",
            "/content/CoTable/data/html/pk_summary_250218/16143486/3.html\n",
            "| Empty Cell | Lorazepam isomeric mixture | Lorazepam-glucuronide isomeric mixture |\n",
            "| --- | --- | --- |\n",
            "| Aetotal (μg) | 8.18 (2.67–13.70) | 899.77 (534.58–1265.0) |\n",
            "| Fel (%) | 0.29 (0.12–0.45) | 44.97 (26.65–63.29) |\n",
            "| ClR(ml/(min kg)) | 0.0099 (0.0049–0.015) | 1.12 (0.69–1.55) |\n",
            "| t1/2(h) | 12.75 (10.71–14.79) | 11.5 (6.14–16.86) |\n",
            "| Kel (h) | 0.057 (0.048–0.065) | 0.066 (0.040–0.093) |\n",
            "\n",
            "\n",
            "/content/CoTable/data/html/pk_summary_250218/16143486/4.html\n",
            "| Parturient | Cord blood (ng/ml) | Maternal blood (ng/ml) | Collection time(min) | Cord blood/maternal blood |\n",
            "| --- | --- | --- | --- | --- |\n",
            "| 1 | 5.77 | 14.74 | 135 | 0.392 |\n",
            "| 2 | 6.82 | 7.95 | 426 | 0.858 |\n",
            "| 3 | 4.38 | 10.48 | 153 | 0.418 |\n",
            "| 4 | 8.42 | 9.60 | 300 | 0.878 |\n",
            "| 5 | 5.87 | 5.33 | 390 | 1.100 |\n",
            "| 6 | 5.78 | 9.87 | 120 | 0.586 |\n",
            "| 7 | 7.75 | 10.94 | 552 | 0.708 |\n",
            "| 8 | 9.45 | 10.35 | 207 | 0.913 |\n",
            "| Mean CI 95% | 6.78 (5.39–8.17) | 9.91 (7.68–12.14) | 293.4 (163.2–423) | 0.73 (0.52–0.94) |\n",
            "\n",
            "\n",
            "/content/CoTable/data/html/pk_summary_250218/34183327/2.html\n",
            "| PK parameters | First PK assessment (n=20) | Second PK assessment (n=12) | P value* |\n",
            "| --- | --- | --- | --- |\n",
            "| Isoniazid |  |  |  |\n",
            "| AUC0–24(h∙mg/L) | 18.5 (5.1–47.4) | 14.5 (5.9–44.2) | 0.888 |\n",
            "| Cmax(mg/L) | 4.6 (1.0–10.0) | 4.7 (2.5–13.6) | 0.366 |\n",
            "| CCSF0–2(mg/L)† | 1.4 (0.5–6.1) | 1.6 (1.2–2.5) | n/a |\n",
            "| CCSF3–5(mg/L)† | 1.6 (0.3–5.0) | 1.7 (0.6–5.0) | n/a |\n",
            "| CCSF6–8(mg/L)† | 1.3 (1.2–4.3) | 2.3 (1.9–2.8) | n/a |\n",
            "| Rifampicin |  |  |  |\n",
            "| AUC0–24(h∙mg/L) | 66.9 (21.7–118.6) | 71.8 (36.1–116.5) | 0.442 |\n",
            "| Cmax(mg/L) | 9.4 (2.9–23.7) | 10.4 (5.7–23.3) | 0.499 |\n",
            "| CCSF0–2(mg/L)† | 0.2 (0.1–0.4) | 0.1 (0.1–0.1) | n/a |\n",
            "| CCSF3–5(mg/L)† | 0.3 (0.1–0.8) | 0.1 (0.1–0.3) | n/a |\n",
            "| CCSF6–8(mg/L)† | 0.4 (0.1–1.4) | 0.2 (0.1–0.7) | n/a |\n",
            "| Pyrazinamide |  |  |  |\n",
            "| AUC0–24(h∙mg/L) | 315.5 (100.6–599.0) | 328.4 (143.3–1477.7) | 0.482 |\n",
            "| Cmax(mg/L) | 37.7 (15.9–61.7) | 40.5 (22.7–88.4) | 0.350 |\n",
            "| CCSF0–2(mg/L)† | 24.4 (11.1–54.9) | 25.6 (21.3–37.1) | n/a |\n",
            "| CCSF3–5(mg/L)† | 30.0 (19.2–43.3) | 24.7 (15.9–38.1) | n/a |\n",
            "| CCSF6–8(mg/L)† | 19.6 (7.2–37.7) | 39.4 (23.1–70.8) | n/a |\n",
            "\n",
            "\n",
            "/content/CoTable/data/html/pk_summary_250218/30825333/3.html\n",
            "| Parameter | Unit | Value |\n",
            "| --- | --- | --- |\n",
            "| Total area under curve | Mg/min/L | 91 ± 30 |\n",
            "| Maximum concentration | mg/L | 1.6 ± 0.68 |\n",
            "| Total body clearance | L/min | 0.52 ± 0.26 |\n",
            "| Body weight normalized clearance | L/kg/min | 0.025 ± 0.008 |\n",
            "| Mean residence time | hr | 2.3 ± 0.64 |\n",
            "| Distribution volume at steady state | L | 69 ± 39 |\n",
            "| Body weight normalized distribution volume | L/kg | 3.3 ± 1.3 |\n",
            "| Elimination half-life | hr | 2.6 ± 1 |\n",
            "\n",
            "\n"
          ]
        }
      ]
    },
    {
      "cell_type": "code",
      "source": [
        "import re\n",
        "import pandas as pd\n",
        "\n",
        "md = deduplicate_headers(fill_empty_headers(remove_empty_col_row(stack_md_table_headers(html_table_to_markdown(get_html_content_from_file('/content/CoTable/data/html/pk_summary_250218/35465728/2.html'))))))\n",
        "print(display_md_table(md))"
      ],
      "metadata": {
        "colab": {
          "base_uri": "https://localhost:8080/"
        },
        "id": "1_JRl-rJHmwE",
        "outputId": "68c500ee-3a9d-43c5-dffb-821811b231f2"
      },
      "execution_count": 9,
      "outputs": [
        {
          "output_type": "stream",
          "name": "stdout",
          "text": [
            "col: | \"Factor\" | \"Data for:→Before group\" | \"Data for:→After group\" | \"Pvalue\" |\n",
            "| --- | --- | --- | --- |\n",
            "row 0: | Initial Cavg | n= 60 | n= 59 |  |\n",
            "row 1: | Repartition |  |  |  |\n",
            "row 2: | Subtherapeutic | 41 (68.3) | 6 (10.2) | <0.001 |\n",
            "row 3: | Therapeutic | 17 (28.3) | 44 (74.6) | <0.001 |\n",
            "row 4: | Supra-therapeutic | 2 (3.3) | 9 (15.3) | 0.001 |\n",
            "row 5: | Concentration (mg/L) | 12.9 [11.3–17.0] | 20.3 [17.0–22.2] | <0.001 |\n",
            "row 6: | All Cavg | n= 116 | n= 103 |  |\n",
            "row 7: | Repartition |  |  |  |\n",
            "row 8: | Subtherapeutic | 78 (67.2) | 13 (12.6) | <0.001 |\n",
            "row 9: | Therapeutic | 36 (31.0) | 77 (74.8) | <0.001 |\n",
            "row 10: | Supra-therapeutic | 2 (1.7) | 13 (12.6) | 0.025 |\n",
            "row 11: | Concentration (mg/L) | 13.1 [11.3–16.2] | 19.8 [16.8–22.1] | < 0.001 |\n",
            "row 12: | Initial Cavg/MIC ratio | n=22 | n=17 |  |\n",
            "row 13: | Repartition |  |  |  |\n",
            "row 14: | <8 | 10 (45.5) | 2 (11.8) | 0.02 |\n",
            "row 15: | ≥8 | 12 (54.5) | 15 (88.2) |  |\n",
            "row 16: | Cavg/MIC ratio | 8.8 [6.2–11.5] | 12.8 [10.9–20.9] | 0.004 |\n",
            "row 17: | Initial AUC/MIC ratio | n=22 | n=17 |  |\n",
            "row 18: | Repartition |  |  |  |\n",
            "row 19: | <400 | 20/22 (90.9) | 10/17 (58.8) | 0.02 |\n",
            "row 20: | ≥400 | 2/22 (9.1) | 7/17 (41.2) |  |\n",
            "row 21: | AUC/MIC ratio | 211 [149–275] | 307 [262–502] | 0.006 |\n"
          ]
        }
      ]
    },
    {
      "cell_type": "code",
      "source": [
        "print(display_md_table(md))\n",
        "print()\n",
        "df = markdown_to_dataframe(md)\n",
        "print(df)\n",
        "print()\n",
        "print(display_md_table(dataframe_to_markdown(df)))"
      ],
      "metadata": {
        "colab": {
          "base_uri": "https://localhost:8080/"
        },
        "id": "tARXECniIDVz",
        "outputId": "cae4b930-b78c-429e-baa6-7e5b1fc23c75"
      },
      "execution_count": 15,
      "outputs": [
        {
          "output_type": "stream",
          "name": "stdout",
          "text": [
            "col: | \"Factor\" | \"Data for:→Before group\" | \"Data for:→After group\" | \"Pvalue\" |\n",
            "| --- | --- | --- | --- |\n",
            "row 0: | Initial Cavg | n= 60 | n= 59 |  |\n",
            "row 1: | Repartition |  |  |  |\n",
            "row 2: | Subtherapeutic | 41 (68.3) | 6 (10.2) | <0.001 |\n",
            "row 3: | Therapeutic | 17 (28.3) | 44 (74.6) | <0.001 |\n",
            "row 4: | Supra-therapeutic | 2 (3.3) | 9 (15.3) | 0.001 |\n",
            "row 5: | Concentration (mg/L) | 12.9 [11.3–17.0] | 20.3 [17.0–22.2] | <0.001 |\n",
            "row 6: | All Cavg | n= 116 | n= 103 |  |\n",
            "row 7: | Repartition |  |  |  |\n",
            "row 8: | Subtherapeutic | 78 (67.2) | 13 (12.6) | <0.001 |\n",
            "row 9: | Therapeutic | 36 (31.0) | 77 (74.8) | <0.001 |\n",
            "row 10: | Supra-therapeutic | 2 (1.7) | 13 (12.6) | 0.025 |\n",
            "row 11: | Concentration (mg/L) | 13.1 [11.3–16.2] | 19.8 [16.8–22.1] | < 0.001 |\n",
            "row 12: | Initial Cavg/MIC ratio | n=22 | n=17 |  |\n",
            "row 13: | Repartition |  |  |  |\n",
            "row 14: | <8 | 10 (45.5) | 2 (11.8) | 0.02 |\n",
            "row 15: | ≥8 | 12 (54.5) | 15 (88.2) |  |\n",
            "row 16: | Cavg/MIC ratio | 8.8 [6.2–11.5] | 12.8 [10.9–20.9] | 0.004 |\n",
            "row 17: | Initial AUC/MIC ratio | n=22 | n=17 |  |\n",
            "row 18: | Repartition |  |  |  |\n",
            "row 19: | <400 | 20/22 (90.9) | 10/17 (58.8) | 0.02 |\n",
            "row 20: | ≥400 | 2/22 (9.1) | 7/17 (41.2) |  |\n",
            "row 21: | AUC/MIC ratio | 211 [149–275] | 307 [262–502] | 0.006 |\n",
            "\n",
            "                    Factor Data for:→Before group Data for:→After group  \\\n",
            "0             Initial Cavg                  n= 60                 n= 59   \n",
            "1              Repartition                                                \n",
            "2           Subtherapeutic              41 (68.3)              6 (10.2)   \n",
            "3              Therapeutic              17 (28.3)             44 (74.6)   \n",
            "4        Supra-therapeutic                2 (3.3)              9 (15.3)   \n",
            "5     Concentration (mg/L)       12.9 [11.3–17.0]      20.3 [17.0–22.2]   \n",
            "6                 All Cavg                 n= 116                n= 103   \n",
            "7              Repartition                                                \n",
            "8           Subtherapeutic              78 (67.2)             13 (12.6)   \n",
            "9              Therapeutic              36 (31.0)             77 (74.8)   \n",
            "10       Supra-therapeutic                2 (1.7)             13 (12.6)   \n",
            "11    Concentration (mg/L)       13.1 [11.3–16.2]      19.8 [16.8–22.1]   \n",
            "12  Initial Cavg/MIC ratio                   n=22                  n=17   \n",
            "13             Repartition                                                \n",
            "14                      <8              10 (45.5)              2 (11.8)   \n",
            "15                      ≥8              12 (54.5)             15 (88.2)   \n",
            "16          Cavg/MIC ratio         8.8 [6.2–11.5]      12.8 [10.9–20.9]   \n",
            "17   Initial AUC/MIC ratio                   n=22                  n=17   \n",
            "18             Repartition                                                \n",
            "19                    <400           20/22 (90.9)          10/17 (58.8)   \n",
            "20                    ≥400             2/22 (9.1)           7/17 (41.2)   \n",
            "21           AUC/MIC ratio          211 [149–275]         307 [262–502]   \n",
            "\n",
            "     Pvalue  \n",
            "0            \n",
            "1            \n",
            "2    <0.001  \n",
            "3    <0.001  \n",
            "4     0.001  \n",
            "5    <0.001  \n",
            "6            \n",
            "7            \n",
            "8    <0.001  \n",
            "9    <0.001  \n",
            "10    0.025  \n",
            "11  < 0.001  \n",
            "12           \n",
            "13           \n",
            "14     0.02  \n",
            "15           \n",
            "16    0.004  \n",
            "17           \n",
            "18           \n",
            "19     0.02  \n",
            "20           \n",
            "21    0.006  \n",
            "\n",
            "col: | \"Factor\" | \"Data for:→Before group\" | \"Data for:→After group\" | \"Pvalue\" |\n",
            "| --- | --- | --- | --- |\n",
            "row 0: | Initial Cavg | n= 60 | n= 59 |  |\n",
            "row 1: | Repartition |  |  |  |\n",
            "row 2: | Subtherapeutic | 41 (68.3) | 6 (10.2) | <0.001 |\n",
            "row 3: | Therapeutic | 17 (28.3) | 44 (74.6) | <0.001 |\n",
            "row 4: | Supra-therapeutic | 2 (3.3) | 9 (15.3) | 0.001 |\n",
            "row 5: | Concentration (mg/L) | 12.9 [11.3–17.0] | 20.3 [17.0–22.2] | <0.001 |\n",
            "row 6: | All Cavg | n= 116 | n= 103 |  |\n",
            "row 7: | Repartition |  |  |  |\n",
            "row 8: | Subtherapeutic | 78 (67.2) | 13 (12.6) | <0.001 |\n",
            "row 9: | Therapeutic | 36 (31.0) | 77 (74.8) | <0.001 |\n",
            "row 10: | Supra-therapeutic | 2 (1.7) | 13 (12.6) | 0.025 |\n",
            "row 11: | Concentration (mg/L) | 13.1 [11.3–16.2] | 19.8 [16.8–22.1] | < 0.001 |\n",
            "row 12: | Initial Cavg/MIC ratio | n=22 | n=17 |  |\n",
            "row 13: | Repartition |  |  |  |\n",
            "row 14: | <8 | 10 (45.5) | 2 (11.8) | 0.02 |\n",
            "row 15: | ≥8 | 12 (54.5) | 15 (88.2) |  |\n",
            "row 16: | Cavg/MIC ratio | 8.8 [6.2–11.5] | 12.8 [10.9–20.9] | 0.004 |\n",
            "row 17: | Initial AUC/MIC ratio | n=22 | n=17 |  |\n",
            "row 18: | Repartition |  |  |  |\n",
            "row 19: | <400 | 20/22 (90.9) | 10/17 (58.8) | 0.02 |\n",
            "row 20: | ≥400 | 2/22 (9.1) | 7/17 (41.2) |  |\n",
            "row 21: | AUC/MIC ratio | 211 [149–275] | 307 [262–502] | 0.006 |\n"
          ]
        }
      ]
    },
    {
      "cell_type": "code",
      "source": [
        "print(df.at[0, \"Factor\"])\n",
        "print(df.at[0, \"Pvalue\"])\n",
        "print(df.at[19, \"Data for:→Before group\"])\n",
        "print(df.at[2, \"Factor\"])\n",
        "print(df.at[13, \"Factor\"])"
      ],
      "metadata": {
        "colab": {
          "base_uri": "https://localhost:8080/"
        },
        "id": "uHsHvzy-J8wc",
        "outputId": "a2b8d0b5-8331-4df4-b5d4-e06994a2d5be"
      },
      "execution_count": 21,
      "outputs": [
        {
          "output_type": "stream",
          "name": "stdout",
          "text": [
            "Initial Cavg\n",
            "\n",
            "20/22 (90.9)\n",
            "Subtherapeutic\n",
            "Repartition\n"
          ]
        }
      ]
    }
  ]
}