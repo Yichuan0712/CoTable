{
  "nbformat": 4,
  "nbformat_minor": 0,
  "metadata": {
    "colab": {
      "provenance": []
    },
    "kernelspec": {
      "name": "python3",
      "display_name": "Python 3"
    },
    "language_info": {
      "name": "python"
    }
  },
  "cells": [
    {
      "cell_type": "code",
      "execution_count": 1,
      "metadata": {
        "id": "YogB4mdgYI67"
      },
      "outputs": [],
      "source": [
        "import os\n",
        "from google.colab import drive\n",
        "\n",
        "if not os.path.ismount('/content/drive'):\n",
        "    drive.mount('/content/drive')"
      ]
    },
    {
      "cell_type": "code",
      "source": [
        "!cp -r /content/drive/MyDrive/.ssh/ ~/\n",
        "!ls ~/.ssh/ -a\n",
        "!ssh -T git@github.com\n",
        "!git clone git@github.com:Yichuan0712/CoTable.git"
      ],
      "metadata": {
        "colab": {
          "base_uri": "https://localhost:8080/"
        },
        "id": "Mv-vpM6pcPAO",
        "outputId": "1c47867d-abf6-44fb-ed3a-5de59311c823"
      },
      "execution_count": 2,
      "outputs": [
        {
          "output_type": "stream",
          "name": "stdout",
          "text": [
            ".  ..  github_id_rsa  hellbender_id_rsa  id_rsa  id_rsa.pub  known_hosts\n",
            "Hi Yichuan0712! You've successfully authenticated, but GitHub does not provide shell access.\n",
            "Cloning into 'CoTable'...\n",
            "remote: Enumerating objects: 506, done.\u001b[K\n",
            "remote: Counting objects: 100% (20/20), done.\u001b[K\n",
            "remote: Compressing objects: 100% (15/15), done.\u001b[K\n",
            "remote: Total 506 (delta 8), reused 13 (delta 5), pack-reused 486 (from 1)\u001b[K\n",
            "Receiving objects: 100% (506/506), 1.21 MiB | 11.34 MiB/s, done.\n",
            "Resolving deltas: 100% (273/273), done.\n"
          ]
        }
      ]
    },
    {
      "cell_type": "code",
      "source": [
        "!cp /content/drive/MyDrive/OSU/tabula_data.env /content/.env\n",
        "# !cp /content/drive/MyDrive/OSU/yichuan_gemini.env /content/.env"
      ],
      "metadata": {
        "id": "ikbfWaBPXZ8L"
      },
      "execution_count": 3,
      "outputs": []
    },
    {
      "cell_type": "code",
      "source": [
        "!pip install python-dotenv -q\n",
        "!pip install fake_useragent -q\n",
        "!pip install shortuuid -q\n",
        "!pip install ratelimit -q\n",
        "!pip install langchain-openai -q"
      ],
      "metadata": {
        "colab": {
          "base_uri": "https://localhost:8080/"
        },
        "id": "OBagnJatXcOx",
        "outputId": "539e4a05-1aef-4513-a7ce-7d6c70f6ba7f"
      },
      "execution_count": 4,
      "outputs": [
        {
          "output_type": "stream",
          "name": "stdout",
          "text": [
            "\u001b[?25l   \u001b[90m━━━━━━━━━━━━━━━━━━━━━━━━━━━━━━━━━━━━━━━━\u001b[0m \u001b[32m0.0/201.1 kB\u001b[0m \u001b[31m?\u001b[0m eta \u001b[36m-:--:--\u001b[0m\r\u001b[2K   \u001b[91m━━━━━━━━━━━━━━━━━━━━━━━━━━━━━━━━━━━━━━\u001b[0m\u001b[91m╸\u001b[0m\u001b[90m━\u001b[0m \u001b[32m194.6/201.1 kB\u001b[0m \u001b[31m6.1 MB/s\u001b[0m eta \u001b[36m0:00:01\u001b[0m\r\u001b[2K   \u001b[90m━━━━━━━━━━━━━━━━━━━━━━━━━━━━━━━━━━━━━━━━\u001b[0m \u001b[32m201.1/201.1 kB\u001b[0m \u001b[31m3.9 MB/s\u001b[0m eta \u001b[36m0:00:00\u001b[0m\n",
            "\u001b[?25h  Preparing metadata (setup.py) ... \u001b[?25l\u001b[?25hdone\n",
            "  Building wheel for ratelimit (setup.py) ... \u001b[?25l\u001b[?25hdone\n",
            "\u001b[2K   \u001b[90m━━━━━━━━━━━━━━━━━━━━━━━━━━━━━━━━━━━━━━━━\u001b[0m \u001b[32m55.3/55.3 kB\u001b[0m \u001b[31m1.6 MB/s\u001b[0m eta \u001b[36m0:00:00\u001b[0m\n",
            "\u001b[2K   \u001b[90m━━━━━━━━━━━━━━━━━━━━━━━━━━━━━━━━━━━━━━━━\u001b[0m \u001b[32m414.1/414.1 kB\u001b[0m \u001b[31m8.7 MB/s\u001b[0m eta \u001b[36m0:00:00\u001b[0m\n",
            "\u001b[2K   \u001b[90m━━━━━━━━━━━━━━━━━━━━━━━━━━━━━━━━━━━━━━━━\u001b[0m \u001b[32m1.2/1.2 MB\u001b[0m \u001b[31m30.0 MB/s\u001b[0m eta \u001b[36m0:00:00\u001b[0m\n",
            "\u001b[?25h"
          ]
        }
      ]
    },
    {
      "cell_type": "code",
      "source": [
        "import os\n",
        "os.chdir('/content/CoTable')"
      ],
      "metadata": {
        "id": "msiNzGPMA4Ue"
      },
      "execution_count": 5,
      "outputs": []
    },
    {
      "cell_type": "code",
      "source": [
        "!git pull origin main"
      ],
      "metadata": {
        "colab": {
          "base_uri": "https://localhost:8080/"
        },
        "id": "XU7NDD5Nd4la",
        "outputId": "a8680b8c-0ebf-464d-88a3-bba5f286197e"
      },
      "execution_count": 6,
      "outputs": [
        {
          "output_type": "stream",
          "name": "stdout",
          "text": [
            "From github.com:Yichuan0712/CoTable\n",
            " * branch            main       -> FETCH_HEAD\n",
            "Already up to date.\n"
          ]
        }
      ]
    },
    {
      "cell_type": "code",
      "source": [
        "from llm_utils import *\n",
        "import google.generativeai as genai\n",
        "# Important for Colab: Manually configure GEMINI_15_API_KEY to enable Gemini API usage\n",
        "if \"GEMINI_15_API_KEY\" in os.environ:\n",
        "    genai.configure(api_key=os.environ.get(\"GEMINI_15_API_KEY\", None))"
      ],
      "metadata": {
        "id": "7EU5f9xmXVi1"
      },
      "execution_count": 7,
      "outputs": []
    },
    {
      "cell_type": "code",
      "source": [
        "from table_utils import *\n",
        "from llm_utils import *\n",
        "from steps.s_pk_delete_individual import *\n",
        "from steps.s_pk_align_parameter import *\n",
        "from steps.s_pk_split_by_rows import *\n",
        "from steps.s_pk_split_by_cols import *\n",
        "\n",
        "# llm = \"chatgpt_4o\"\n",
        "llm = \"gemini_15_pro\"\n",
        "\n",
        "pmid = \"35465728\"\n",
        "tableid = \"2\"\n",
        "filepath = f'/content/CoTable/data/html/pk_summary_250218/{pmid}/{tableid}.html'\n",
        "md_table = deduplicate_headers(fill_empty_headers(remove_empty_col_row(stack_md_table_headers(html_table_to_markdown(get_html_content_from_file(filepath))))))\n",
        "\n",
        "print(display_md_table(md_table))\n",
        "print(\"\\n\"*4)"
      ],
      "metadata": {
        "colab": {
          "base_uri": "https://localhost:8080/"
        },
        "id": "E9KO0XGMXfGr",
        "outputId": "4a9989d6-98bf-473a-fb37-6af7d953e06a"
      },
      "execution_count": 15,
      "outputs": [
        {
          "output_type": "stream",
          "name": "stdout",
          "text": [
            "col: | \"Factor\" | \"Data for:->Before group\" | \"Data for:->After group\" | \"Pvalue\" |\n",
            "| --- | --- | --- | --- | --- |\n",
            "row 0: | Initial Cavg | n= 60 | n= 59 |  |\n",
            "row 1: | Repartition |  |  |  |\n",
            "row 2: | Subtherapeutic | 41 (68.3) | 6 (10.2) | <0.001 |\n",
            "row 3: | Therapeutic | 17 (28.3) | 44 (74.6) | <0.001 |\n",
            "row 4: | Supra-therapeutic | 2 (3.3) | 9 (15.3) | 0.001 |\n",
            "row 5: | Concentration (mg/L) | 12.9 [11.3–17.0] | 20.3 [17.0–22.2] | <0.001 |\n",
            "row 6: | All Cavg | n= 116 | n= 103 |  |\n",
            "row 7: | Repartition |  |  |  |\n",
            "row 8: | Subtherapeutic | 78 (67.2) | 13 (12.6) | <0.001 |\n",
            "row 9: | Therapeutic | 36 (31.0) | 77 (74.8) | <0.001 |\n",
            "row 10: | Supra-therapeutic | 2 (1.7) | 13 (12.6) | 0.025 |\n",
            "row 11: | Concentration (mg/L) | 13.1 [11.3–16.2] | 19.8 [16.8–22.1] | < 0.001 |\n",
            "row 12: | Initial Cavg/MIC ratio | n=22 | n=17 |  |\n",
            "row 13: | Repartition |  |  |  |\n",
            "row 14: | <8 | 10 (45.5) | 2 (11.8) | 0.02 |\n",
            "row 15: | ≥8 | 12 (54.5) | 15 (88.2) |  |\n",
            "row 16: | Cavg/MIC ratio | 8.8 [6.2–11.5] | 12.8 [10.9–20.9] | 0.004 |\n",
            "row 17: | Initial AUC/MIC ratio | n=22 | n=17 |  |\n",
            "row 18: | Repartition |  |  |  |\n",
            "row 19: | <400 | 20/22 (90.9) | 10/17 (58.8) | 0.02 |\n",
            "row 20: | ≥400 | 2/22 (9.1) | 7/17 (41.2) |  |\n",
            "row 21: | AUC/MIC ratio | 211 [149–275] | 307 [262–502] | 0.006 |\n",
            "\n",
            "\n",
            "\n",
            "\n",
            "\n"
          ]
        }
      ]
    },
    {
      "cell_type": "code",
      "source": [
        "md_table_only_pk_summary, res, content, usage1, truncated = s_pk_delete_individual(md_table, llm)\n",
        "print(\"\\n\"*4)"
      ],
      "metadata": {
        "colab": {
          "base_uri": "https://localhost:8080/",
          "height": 610
        },
        "id": "8py7pD5eE6Sd",
        "outputId": "c0940d77-487c-4a9c-ec83-6305ebf449d9"
      },
      "execution_count": 16,
      "outputs": [
        {
          "output_type": "stream",
          "name": "stdout",
          "text": [
            "997 The table presents summary statistics of pharmacokinetic (PK) data before and after an intervention. There is no individually identifiable information present.  The table shows counts, percentages, and ranges/median [IQR] for different PK parameters.  Since all data are aggregated, there's no individual-level data to remove.\n",
            "\n",
            "Therefore, the answer is [[END]].\n",
            "\n",
            "col: | \"Factor\" | \"Data for:->Before group\" | \"Data for:->After group\" | \"Pvalue\" |\n",
            "| --- | --- | --- | --- |\n",
            "row 0: | Initial Cavg | n= 60 | n= 59 |  |\n",
            "row 1: | Repartition |  |  |  |\n",
            "row 2: | Subtherapeutic | 41 (68.3) | 6 (10.2) | <0.001 |\n",
            "row 3: | Therapeutic | 17 (28.3) | 44 (74.6) | <0.001 |\n",
            "row 4: | Supra-therapeutic | 2 (3.3) | 9 (15.3) | 0.001 |\n",
            "row 5: | Concentration (mg/L) | 12.9 [11.3–17.0] | 20.3 [17.0–22.2] | <0.001 |\n",
            "row 6: | All Cavg | n= 116 | n= 103 |  |\n",
            "row 7: | Repartition |  |  |  |\n",
            "row 8: | Subtherapeutic | 78 (67.2) | 13 (12.6) | <0.001 |\n",
            "row 9: | Therapeutic | 36 (31.0) | 77 (74.8) | <0.001 |\n",
            "row 10: | Supra-therapeutic | 2 (1.7) | 13 (12.6) | 0.025 |\n",
            "row 11: | Concentration (mg/L) | 13.1 [11.3–16.2] | 19.8 [16.8–22.1] | < 0.001 |\n",
            "row 12: | Initial Cavg/MIC ratio | n=22 | n=17 |  |\n",
            "row 13: | Repartition |  |  |  |\n",
            "row 14: | <8 | 10 (45.5) | 2 (11.8) | 0.02 |\n",
            "row 15: | ≥8 | 12 (54.5) | 15 (88.2) |  |\n",
            "row 16: | Cavg/MIC ratio | 8.8 [6.2–11.5] | 12.8 [10.9–20.9] | 0.004 |\n",
            "row 17: | Initial AUC/MIC ratio | n=22 | n=17 |  |\n",
            "row 18: | Repartition |  |  |  |\n",
            "row 19: | <400 | 20/22 (90.9) | 10/17 (58.8) | 0.02 |\n",
            "row 20: | ≥400 | 2/22 (9.1) | 7/17 (41.2) |  |\n",
            "row 21: | AUC/MIC ratio | 211 [149–275] | 307 [262–502] | 0.006 |\n",
            "\n",
            "\n",
            "\n",
            "\n",
            "\n"
          ]
        }
      ]
    },
    {
      "cell_type": "code",
      "source": [
        "md_table_pk_parameter_aligned, res, content, usage2, truncated = s_pk_align_parameter(md_table_only_pk_summary, llm)\n",
        "print(\"\\n\"*4)"
      ],
      "metadata": {
        "colab": {
          "base_uri": "https://localhost:8080/",
          "height": 575
        },
        "id": "ri0TWhlsE7ca",
        "outputId": "64a4e538-3919-45e8-f561-1c0cd0ca7d99"
      },
      "execution_count": 19,
      "outputs": [
        {
          "output_type": "stream",
          "name": "stdout",
          "text": [
            "1054 The table presents various pharmacokinetic (PK) parameters.  The first column, \"Factor,\" lists the PK parameter being measured (e.g., Initial Cavg, Concentration (mg/L), Cavg/MIC ratio, AUC/MIC ratio). The other columns provide data for \"Before group\" and \"After group,\" along with p-values indicating statistical significance of the difference between the groups.  Since the PK parameter is listed in the \"Factor\" column, the answer is <<Factor>>.\n",
            "\n",
            "col: | \"Parameter Type\" | \"Data for:->Before group\" | \"Data for:->After group\" | \"Pvalue\" |\n",
            "| --- | --- | --- | --- |\n",
            "row 0: | Initial Cavg | n= 60 | n= 59 |  |\n",
            "row 1: | Repartition |  |  |  |\n",
            "row 2: | Subtherapeutic | 41 (68.3) | 6 (10.2) | <0.001 |\n",
            "row 3: | Therapeutic | 17 (28.3) | 44 (74.6) | <0.001 |\n",
            "row 4: | Supra-therapeutic | 2 (3.3) | 9 (15.3) | 0.001 |\n",
            "row 5: | Concentration (mg/L) | 12.9 [11.3–17.0] | 20.3 [17.0–22.2] | <0.001 |\n",
            "row 6: | All Cavg | n= 116 | n= 103 |  |\n",
            "row 7: | Repartition |  |  |  |\n",
            "row 8: | Subtherapeutic | 78 (67.2) | 13 (12.6) | <0.001 |\n",
            "row 9: | Therapeutic | 36 (31.0) | 77 (74.8) | <0.001 |\n",
            "row 10: | Supra-therapeutic | 2 (1.7) | 13 (12.6) | 0.025 |\n",
            "row 11: | Concentration (mg/L) | 13.1 [11.3–16.2] | 19.8 [16.8–22.1] | < 0.001 |\n",
            "row 12: | Initial Cavg/MIC ratio | n=22 | n=17 |  |\n",
            "row 13: | Repartition |  |  |  |\n",
            "row 14: | <8 | 10 (45.5) | 2 (11.8) | 0.02 |\n",
            "row 15: | ≥8 | 12 (54.5) | 15 (88.2) |  |\n",
            "row 16: | Cavg/MIC ratio | 8.8 [6.2–11.5] | 12.8 [10.9–20.9] | 0.004 |\n",
            "row 17: | Initial AUC/MIC ratio | n=22 | n=17 |  |\n",
            "row 18: | Repartition |  |  |  |\n",
            "row 19: | <400 | 20/22 (90.9) | 10/17 (58.8) | 0.02 |\n",
            "row 20: | ≥400 | 2/22 (9.1) | 7/17 (41.2) |  |\n",
            "row 21: | AUC/MIC ratio | 211 [149–275] | 307 [262–502] | 0.006 |\n",
            "\n",
            "\n",
            "\n",
            "\n",
            "\n"
          ]
        }
      ]
    },
    {
      "cell_type": "code",
      "source": [
        "md_tables_split_by_rows, res, content, usage3, truncated = s_pk_split_by_rows(md_table_pk_parameter_aligned, llm)\n",
        "print(\"\\n\"*4)"
      ],
      "metadata": {
        "colab": {
          "base_uri": "https://localhost:8080/",
          "height": 853
        },
        "id": "VLf8G-m8E8e5",
        "outputId": "554e2968-1042-41b9-d3a5-734fa1ee7b5a"
      },
      "execution_count": 23,
      "outputs": [
        {
          "output_type": "stream",
          "name": "stdout",
          "text": [
            "1462 The table presents data grouped into sections related to \"Initial Cavg\", \"All Cavg\", \"Initial Cavg/MIC ratio\", and \"Initial AUC/MIC ratio\". Each of these sections starts with a row specifying the parameter type and the sample size (n=) for the \"Before\" and \"After\" groups.  Within each section, there are rows for \"Repartition\", followed by breakdowns into categories (e.g., Subtherapeutic, Therapeutic, Supra-therapeutic) and then the overall concentration or ratio.  These sections are clearly delineated by the author with the parameter type and sample size rows. Therefore, we can split the table into four sub-tables.\n",
            "\n",
            "The row groups are:\n",
            "1. Initial Cavg: [0, 1, 2, 3, 4, 5]\n",
            "2. All Cavg: [6, 7, 8, 9, 10, 11]\n",
            "3. Initial Cavg/MIC ratio: [12, 13, 14, 15, 16]\n",
            "4. Initial AUC/MIC ratio: [17, 18, 19, 20, 21]\n",
            "\n",
            "Therefore, the answer is:\n",
            "\n",
            "<<f_split_by_rows([[0, 1, 2, 3, 4, 5], [6, 7, 8, 9, 10, 11], [12, 13, 14, 15, 16], [17, 18, 19, 20, 21]])>>\n",
            "\n",
            "col: | \"Parameter Type\" | \"Data for:->Before group\" | \"Data for:->After group\" | \"Pvalue\" |\n",
            "| --- | --- | --- | --- |\n",
            "row 0: | Initial Cavg | n= 60 | n= 59 |  |\n",
            "row 1: | Repartition |  |  |  |\n",
            "row 2: | Subtherapeutic | 41 (68.3) | 6 (10.2) | <0.001 |\n",
            "row 3: | Therapeutic | 17 (28.3) | 44 (74.6) | <0.001 |\n",
            "row 4: | Supra-therapeutic | 2 (3.3) | 9 (15.3) | 0.001 |\n",
            "row 5: | Concentration (mg/L) | 12.9 [11.3–17.0] | 20.3 [17.0–22.2] | <0.001 |\n",
            "col: | \"Parameter Type\" | \"Data for:->Before group\" | \"Data for:->After group\" | \"Pvalue\" |\n",
            "| --- | --- | --- | --- |\n",
            "row 0: | All Cavg | n= 116 | n= 103 |  |\n",
            "row 1: | Repartition |  |  |  |\n",
            "row 2: | Subtherapeutic | 78 (67.2) | 13 (12.6) | <0.001 |\n",
            "row 3: | Therapeutic | 36 (31.0) | 77 (74.8) | <0.001 |\n",
            "row 4: | Supra-therapeutic | 2 (1.7) | 13 (12.6) | 0.025 |\n",
            "row 5: | Concentration (mg/L) | 13.1 [11.3–16.2] | 19.8 [16.8–22.1] | < 0.001 |\n",
            "col: | \"Parameter Type\" | \"Data for:->Before group\" | \"Data for:->After group\" | \"Pvalue\" |\n",
            "| --- | --- | --- | --- |\n",
            "row 0: | Initial Cavg/MIC ratio | n=22 | n=17 |  |\n",
            "row 1: | Repartition |  |  |  |\n",
            "row 2: | <8 | 10 (45.5) | 2 (11.8) | 0.02 |\n",
            "row 3: | ≥8 | 12 (54.5) | 15 (88.2) |  |\n",
            "row 4: | Cavg/MIC ratio | 8.8 [6.2–11.5] | 12.8 [10.9–20.9] | 0.004 |\n",
            "col: | \"Parameter Type\" | \"Data for:->Before group\" | \"Data for:->After group\" | \"Pvalue\" |\n",
            "| --- | --- | --- | --- |\n",
            "row 0: | Initial AUC/MIC ratio | n=22 | n=17 |  |\n",
            "row 1: | Repartition |  |  |  |\n",
            "row 2: | <400 | 20/22 (90.9) | 10/17 (58.8) | 0.02 |\n",
            "row 3: | ≥400 | 2/22 (9.1) | 7/17 (41.2) |  |\n",
            "row 4: | AUC/MIC ratio | 211 [149–275] | 307 [262–502] | 0.006 |\n",
            "\n",
            "\n",
            "\n",
            "\n",
            "\n"
          ]
        }
      ]
    },
    {
      "cell_type": "code",
      "source": [
        "usage = usage1 + usage2 + usage3\n",
        "\n",
        "previous_col_groups = None\n",
        "all_md_tables = {}\n",
        "\n",
        "for row_idx, md in enumerate(md_tables_split_by_rows):\n",
        "    _new_md_tables, res, content, _usage, truncated, previous_col_groups = s_pk_split_by_cols(md, llm, previous_col_groups)\n",
        "\n",
        "    for col_idx, table in enumerate(_new_md_tables):\n",
        "        all_md_tables[(row_idx, col_idx)] = table\n",
        "\n",
        "    usage += _usage\n",
        "\n",
        "print(usage)\n",
        "print(\"\\n\" * 4)\n",
        "\n",
        "\n",
        "# usage = usage1 + usage2 + usage3\n",
        "\n",
        "# previous_col_groups = None\n",
        "# all_md_tables = []\n",
        "# for md in md_tables_split_by_rows:\n",
        "#     _new_md_tables, res, content, _usage, truncated, previous_col_groups = s_pk_split_by_cols(md, llm, previous_col_groups)\n",
        "#     for table in _new_md_tables:\n",
        "#         all_md_tables.append(table)\n",
        "#     usage += _usage\n",
        "\n",
        "# print(usage)\n",
        "# print(\"\\n\"*4)\n",
        "\n",
        "\n",
        "\n",
        "# usage = usage1 + usage2 + usage3\n",
        "\n",
        "# new_md_tables, res, content, usage4, truncated = s_pk_split_by_cols(new_md_table, new_md_tables, llm)\n",
        "# usage += usage4\n",
        "\n",
        "# print(usage)\n",
        "# print(\"\\n\"*4)"
      ],
      "metadata": {
        "colab": {
          "base_uri": "https://localhost:8080/",
          "height": 411
        },
        "id": "TSf3kl--E-Iy",
        "outputId": "004d6755-1736-456f-c217-5a9735f41839"
      },
      "execution_count": 29,
      "outputs": [
        {
          "output_type": "stream",
          "name": "stderr",
          "text": [
            "WARNING:tornado.access:429 POST /v1beta/models/gemini-1.5-pro-latest:generateContent?%24alt=json%3Benum-encoding%3Dint (127.0.0.1) 384.44ms\n",
            "ERROR:extractor.request_geminiai:429 POST https://generativelanguage.googleapis.com/v1beta/models/gemini-1.5-pro-latest:generateContent?%24alt=json%3Benum-encoding%3Dint: Resource has been exhausted (e.g. check quota).\n"
          ]
        },
        {
          "output_type": "error",
          "ename": "ValueError",
          "evalue": "not enough values to unpack (expected 4, got 3)",
          "traceback": [
            "\u001b[0;31m---------------------------------------------------------------------------\u001b[0m",
            "\u001b[0;31mValueError\u001b[0m                                Traceback (most recent call last)",
            "\u001b[0;32m<ipython-input-29-88c415764e09>\u001b[0m in \u001b[0;36m<cell line: 0>\u001b[0;34m()\u001b[0m\n\u001b[1;32m      5\u001b[0m \u001b[0;34m\u001b[0m\u001b[0m\n\u001b[1;32m      6\u001b[0m \u001b[0;32mfor\u001b[0m \u001b[0mrow_idx\u001b[0m\u001b[0;34m,\u001b[0m \u001b[0mmd\u001b[0m \u001b[0;32min\u001b[0m \u001b[0menumerate\u001b[0m\u001b[0;34m(\u001b[0m\u001b[0mmd_tables_split_by_rows\u001b[0m\u001b[0;34m)\u001b[0m\u001b[0;34m:\u001b[0m\u001b[0;34m\u001b[0m\u001b[0;34m\u001b[0m\u001b[0m\n\u001b[0;32m----> 7\u001b[0;31m     \u001b[0m_new_md_tables\u001b[0m\u001b[0;34m,\u001b[0m \u001b[0mres\u001b[0m\u001b[0;34m,\u001b[0m \u001b[0mcontent\u001b[0m\u001b[0;34m,\u001b[0m \u001b[0m_usage\u001b[0m\u001b[0;34m,\u001b[0m \u001b[0mtruncated\u001b[0m\u001b[0;34m,\u001b[0m \u001b[0mprevious_col_groups\u001b[0m \u001b[0;34m=\u001b[0m \u001b[0ms_pk_split_by_cols\u001b[0m\u001b[0;34m(\u001b[0m\u001b[0mmd\u001b[0m\u001b[0;34m,\u001b[0m \u001b[0mllm\u001b[0m\u001b[0;34m,\u001b[0m \u001b[0mprevious_col_groups\u001b[0m\u001b[0;34m)\u001b[0m\u001b[0;34m\u001b[0m\u001b[0;34m\u001b[0m\u001b[0m\n\u001b[0m\u001b[1;32m      8\u001b[0m \u001b[0;34m\u001b[0m\u001b[0m\n\u001b[1;32m      9\u001b[0m     \u001b[0;32mfor\u001b[0m \u001b[0mcol_idx\u001b[0m\u001b[0;34m,\u001b[0m \u001b[0mtable\u001b[0m \u001b[0;32min\u001b[0m \u001b[0menumerate\u001b[0m\u001b[0;34m(\u001b[0m\u001b[0m_new_md_tables\u001b[0m\u001b[0;34m)\u001b[0m\u001b[0;34m:\u001b[0m\u001b[0;34m\u001b[0m\u001b[0;34m\u001b[0m\u001b[0m\n",
            "\u001b[0;32m/content/CoTable/steps/s_pk_split_by_cols.py\u001b[0m in \u001b[0;36ms_pk_split_by_cols\u001b[0;34m(md_table, model_name, previous_col_groups)\u001b[0m\n\u001b[1;32m     60\u001b[0m     \u001b[0mquestion\u001b[0m \u001b[0;34m=\u001b[0m \u001b[0;34m\"Do not give the final result immediately. First, explain your thought process, then provide the answer.\"\u001b[0m\u001b[0;34m\u001b[0m\u001b[0;34m\u001b[0m\u001b[0m\n\u001b[1;32m     61\u001b[0m \u001b[0;34m\u001b[0m\u001b[0m\n\u001b[0;32m---> 62\u001b[0;31m     \u001b[0mres\u001b[0m\u001b[0;34m,\u001b[0m \u001b[0mcontent\u001b[0m\u001b[0;34m,\u001b[0m \u001b[0musage\u001b[0m\u001b[0;34m,\u001b[0m \u001b[0mtruncated\u001b[0m \u001b[0;34m=\u001b[0m \u001b[0mget_llm_response\u001b[0m\u001b[0;34m(\u001b[0m\u001b[0mmessages\u001b[0m\u001b[0;34m,\u001b[0m \u001b[0mquestion\u001b[0m\u001b[0;34m,\u001b[0m \u001b[0mmodel\u001b[0m\u001b[0;34m=\u001b[0m\u001b[0mmodel_name\u001b[0m\u001b[0;34m)\u001b[0m\u001b[0;34m\u001b[0m\u001b[0;34m\u001b[0m\u001b[0m\n\u001b[0m\u001b[1;32m     63\u001b[0m     \u001b[0;31m# print(display_md_table(md_table))\u001b[0m\u001b[0;34m\u001b[0m\u001b[0;34m\u001b[0m\u001b[0m\n\u001b[1;32m     64\u001b[0m     \u001b[0mprint\u001b[0m\u001b[0;34m(\u001b[0m\u001b[0musage\u001b[0m\u001b[0;34m,\u001b[0m \u001b[0mcontent\u001b[0m\u001b[0;34m)\u001b[0m\u001b[0;34m\u001b[0m\u001b[0;34m\u001b[0m\u001b[0m\n",
            "\u001b[0;32m/content/CoTable/llm_utils.py\u001b[0m in \u001b[0;36mget_llm_response\u001b[0;34m(messages, question, model)\u001b[0m\n\u001b[1;32m     28\u001b[0m         \u001b[0;32mraise\u001b[0m \u001b[0mValueError\u001b[0m\u001b[0;34m(\u001b[0m\u001b[0;34mf\"Unsupported model: {model}\"\u001b[0m\u001b[0;34m)\u001b[0m\u001b[0;34m\u001b[0m\u001b[0;34m\u001b[0m\u001b[0m\n\u001b[1;32m     29\u001b[0m \u001b[0;34m\u001b[0m\u001b[0m\n\u001b[0;32m---> 30\u001b[0;31m     \u001b[0mres\u001b[0m\u001b[0;34m,\u001b[0m \u001b[0mcontent\u001b[0m\u001b[0;34m,\u001b[0m \u001b[0musage\u001b[0m\u001b[0;34m,\u001b[0m \u001b[0mtruncated\u001b[0m \u001b[0;34m=\u001b[0m \u001b[0mrequest_llm\u001b[0m\u001b[0;34m(\u001b[0m\u001b[0mprompt_list\u001b[0m\u001b[0;34m,\u001b[0m \u001b[0mquestion\u001b[0m\u001b[0;34m)\u001b[0m\u001b[0;34m\u001b[0m\u001b[0;34m\u001b[0m\u001b[0m\n\u001b[0m\u001b[1;32m     31\u001b[0m     \u001b[0;32mreturn\u001b[0m \u001b[0mres\u001b[0m\u001b[0;34m,\u001b[0m \u001b[0mcontent\u001b[0m\u001b[0;34m,\u001b[0m \u001b[0musage\u001b[0m\u001b[0;34m,\u001b[0m \u001b[0mtruncated\u001b[0m\u001b[0;34m\u001b[0m\u001b[0;34m\u001b[0m\u001b[0m\n\u001b[1;32m     32\u001b[0m \u001b[0;34m\u001b[0m\u001b[0m\n",
            "\u001b[0;31mValueError\u001b[0m: not enough values to unpack (expected 4, got 3)"
          ]
        }
      ]
    },
    {
      "cell_type": "code",
      "source": [
        "all_md_tables"
      ],
      "metadata": {
        "colab": {
          "base_uri": "https://localhost:8080/"
        },
        "id": "uVRs35FfLjlR",
        "outputId": "2bf251fe-870b-4e8e-f4fb-24669dcb12b6"
      },
      "execution_count": 14,
      "outputs": [
        {
          "output_type": "execute_result",
          "data": {
            "text/plain": [
              "{(0,\n",
              "  0): '| Pharmacokinetic parameter. | Naso- or orogastric tube administration,n=\\u200914/19. | Pvalue. |\\n| --- | --- | --- |\\n| AUC0–12(h*μg/mL) | 220 (157.5–355.4) | 0.90 |\\n| Cmax(μg/mL) | 23.8 (18.8–41.3) | 0.84 |\\n| Tmax(h) | 1.5 (1.5–2.5) | 0.46 |',\n",
              " (0,\n",
              "  1): '| Pharmacokinetic parameter. | Oral administration,n=\\u20095/19. | Pvalue. |\\n| --- | --- | --- |\\n| AUC0–12(h*μg/mL) | 213.8 (154.0–348.8) | 0.90 |\\n| Cmax(μg/mL) | 26.4 (19.3–34.2) | 0.84 |\\n| Tmax(h) | 2.5 (1.5–2.9) | 0.46 |'}"
            ]
          },
          "metadata": {},
          "execution_count": 14
        }
      ]
    },
    {
      "cell_type": "code",
      "source": [
        "\"\"\"\n",
        "22050870 lost col,\n",
        "35465728 repeat col\n",
        "<<f_split_by_cols([[\"Factor\", \"Data for:->Before group\", \"Data for:->After group\", \"Pvalue\"], [\"Factor\", \"Data for:->Before group\", \"Data for:->After group\", \"Pvalue\"]])>>\n",
        "\n",
        "col: | \"Unnamed_0\" | \"Patients without ARC->GM (95% CI)\" | \"P-value\" |\n",
        "| --- | --- | --- |\n",
        "row 0: | IB | N= 11 |  |\n",
        "row 1: | Cmid(mg/L) | 4.9 (2.6−9.2) | 0.14 |\n",
        "row 2: | Ctrough(mg/L) | 0.8 (0.4−1.6) | 0.85 |\n",
        "\n",
        "\n",
        "col: | \"Factor\" | \"Data for:->After group\" | \"Pvalue\" |\n",
        "| --- | --- | --- |\n",
        "row 0: | All Cavg | n= 103 |  |\n",
        "row 1: | Repartition |  |  |\n",
        "row 2: | Subtherapeutic | 13 (12.6) | <0.001 |\n",
        "row 3: | Therapeutic | 77 (74.8) | <0.001 |\n",
        "row 4: | Supra-therapeutic | 13 (12.6) | 0.025 |\n",
        "row 5: | Concentration (mg/L) | 19.8 [16.8–22.1] | < 0.001 |\n",
        "\n",
        "\n",
        "col: | \"Factor\" | \"Data for:->Before group\" | \"Data for:->After group\" | \"Pvalue\" |\n",
        "| --- | --- | --- | --- |\n",
        "row 0: | Initial Cavg/MIC ratio | n=22 | n=17 |  |\n",
        "row 1: | Repartition |  |  |  |\n",
        "row 2: | <8 | 10 (45.5) | 2 (11.8) | 0.02 |\n",
        "row 3: | ≥8 | 12 (54.5) | 15 (88.2) |  |\n",
        "row 4: | Cavg/MIC ratio | 8.8 [6.2–11.5] | 12.8 [10.9–20.9] | 0.004 |\n",
        "row 5: | Initial AUC/MIC ratio | n=22 | n=17 |  |\n",
        "row 6: | Repartition |  |  |  |\n",
        "row 7: | <400 | 20/22 (90.9) | 10/17 (58.8) | 0.02 |\n",
        "row 8: | ≥400 | 2/22 (9.1) | 7/17 (41.2) |  |\n",
        "row 9: | AUC/MIC ratio | 211 [149–275] | 307 [262–502] | 0.006 |\n",
        "\n",
        "col: | \"Unnamed_0\" | \"Overall\" | \"N_0\" | \"Range_0\" | \"Mean ± s.d._0\" | \"Median\" |\n",
        "| --- | --- | --- | --- | --- | --- |\n",
        "row 0: | Free Fraction |  | 61 | 0.07–0.48 | 0.10 ± 0.05 | 0.09 |\n",
        "row 1: | CL(mL/min/kg) |  | 63 | 0.3–7.75 | 1.2 ± 0.93 | 1.08 |\n",
        "row 2: | CLmL/min/m) |  | 63 | 6.50–147.17 | 33.33 ± 19.33 | 29.00 |\n",
        "row 3: | Vdss(L/kg) |  | 63 | 0.49–3.40 | 1.48 ± 0.54 | 1.37 |\n",
        "row 4: | Beta(hr) |  | 63 | 0.017–0.118 | 0.048 ± 0.020 | 0.046 |\n",
        "row 5: | T½Beta(hr) |  | 63 | 5.9–42.0 | 16.8 ± 7.1 | 15.1 |\n",
        "\n",
        "col: | \"Unnamed_0\" | \"3 Month to < 3 Years\" | \"N_1\" | \"Range_1\" | \"Mean ± s.d._1\" |\n",
        "| --- | --- | --- | --- | --- |\n",
        "row 0: | Free Fraction |  | 17 | 0.07–0.48 | 0.11 ± 0.10 |\n",
        "row 1: | CL(mL/min/kg) |  | 18 | 0.63–7.75 | 1.57 ± 1.62 |\n",
        "row 2: | CLmL/min/m) |  | 18 | 12.83–147.17 | 32.83 ± 30.17 |\n",
        "row 3: | Vdss(L/kg) |  | 18 | 0.67–3.40 | 1.62 ± 0.59 |\n",
        "row 4: | Beta(hr) |  | 18 | 0.024–0.118 | 0.053 ± 0.027 |\n",
        "row 5: | T½Beta(hr) |  | 18 | 5.9–28.4 | 15.8 ± 6.5 |\n",
        "\n",
        "col: | \"Factor\" | \"Data for:->After group\" | \"Pvalue\" |\n",
        "| --- | --- | --- |\n",
        "row 0: | Initial Cavg/MIC ratio | n=17 |  |\n",
        "row 1: | Repartition |  |  |\n",
        "row 2: | <8 | 2 (11.8) | 0.02 |\n",
        "row 3: | ≥8 | 15 (88.2) |  |\n",
        "row 4: | Cavg/MIC ratio | 12.8 [10.9–20.9] | 0.004 |\n",
        "row 5: | Initial AUC/MIC ratio | n=17 |  |\n",
        "row 6: | Repartition |  |  |\n",
        "row 7: | <400 | 10/17 (58.8) | 0.02 |\n",
        "row 8: | ≥400 | 7/17 (41.2) |  |\n",
        "row 9: | AUC/MIC ratio | 307 [262–502] | 0.006 |\n",
        "\n",
        "col: | \"Factor\" | \"Data for:->Before group\" | \"Data for:->After group\" | \"Pvalue\" |\n",
        "| --- | --- | --- | --- |\n",
        "row 0: | Initial AUC/MIC ratio | n=22 | n=17 |  |\n",
        "row 1: | Repartition |  |  |  |\n",
        "row 2: | <400 | 20/22 (90.9) | 10/17 (58.8) | 0.02 |\n",
        "row 3: | ≥400 | 2/22 (9.1) | 7/17 (41.2) |  |\n",
        "row 4: | AUC/MIC ratio | 211 [149–275] | 307 [262–502] | 0.006 |\n",
        "\n",
        "\"\"\"\n"
      ],
      "metadata": {
        "id": "4H7X5gKF406B"
      },
      "execution_count": null,
      "outputs": []
    }
  ]
}